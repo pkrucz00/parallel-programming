{
 "cells": [
  {
   "cell_type": "markdown",
   "id": "339d5e21",
   "metadata": {},
   "source": [
    "# Metody Programowania Równoległego\n",
    "*Temat: Message Passing Interface*\n",
    "\n",
    "Wykonał: **Paweł Kruczkiewicz**"
   ]
  },
  {
   "cell_type": "code",
   "execution_count": 35,
   "id": "b563ab97",
   "metadata": {},
   "outputs": [
    {
     "data": {
      "text/plain": [
       "<Figure size 640x480 with 0 Axes>"
      ]
     },
     "execution_count": 35,
     "metadata": {},
     "output_type": "execute_result"
    },
    {
     "data": {
      "text/plain": [
       "<Figure size 640x480 with 0 Axes>"
      ]
     },
     "metadata": {},
     "output_type": "display_data"
    }
   ],
   "source": [
    "import pandas as pd\n",
    "import matplotlib.pyplot as plt"
   ]
  },
  {
   "cell_type": "markdown",
   "id": "a31a22c0",
   "metadata": {},
   "source": [
    "## Kod Programu\n",
    "Do wykonania pomiarów posłużono się poniżej przedstawionym programem napisanym w języku C:\n",
    "    \n",
    "```C\n",
    "#include <stdio.h>\n",
    "#include <stdlib.h>\n",
    "#include <time.h>\n",
    "#include <mpi.h>\n",
    "\n",
    "#define N 1001\n",
    "#define DEFAULT_TAG 0\n",
    "#define TEST_CASES_NUM 6\n",
    "#define CSV_NAME \"results/normal_1_node.csv\"\n",
    "\n",
    "void init_mpi(int* argc, char** argv[], int* rank, int* size){\n",
    "   MPI_Init (argc, argv);  /* starts MPI */\n",
    "  MPI_Comm_rank (MPI_COMM_WORLD, rank);  /* get current process id */\n",
    "  MPI_Comm_size (MPI_COMM_WORLD, size);  /* get number of processes */\n",
    "}\n",
    "\n",
    "void my_MPI_send(int* number_buf, int number_amount, int receiver) {\n",
    "  # ifdef BUFFERED\n",
    "        int buffer_attached_size = MPI_BSEND_OVERHEAD +  number_amount*sizeof(int);\n",
    "        char* buffer_attached = (char*) malloc(buffer_attached_size);\n",
    "        MPI_Buffer_attach(buffer_attached, buffer_attached_size);\n",
    "\n",
    "        MPI_Bsend(number_buf, number_amount, MPI_INT, receiver, DEFAULT_TAG, MPI_COMM_WORLD);\n",
    "        \n",
    "        MPI_Buffer_detach(&buffer_attached, &buffer_attached_size);\n",
    "        free(buffer_attached); \n",
    "  # else\n",
    "      MPI_Send(number_buf, number_amount, MPI_INT, receiver, DEFAULT_TAG, MPI_COMM_WORLD);\n",
    "  # endif /* BUFFERED */\n",
    "\n",
    "}\n",
    "\n",
    "\n",
    "void my_MPI_receive(int* number_buf, int number_amount, int sender){\n",
    "  MPI_Recv(number_buf, number_amount, MPI_INT, sender, DEFAULT_TAG, MPI_COMM_WORLD, MPI_STATUS_IGNORE);\n",
    "}\n",
    "\n",
    "void MPI_one_ping_pong(int rank, int* number_buf, int number_amount) {\n",
    "  if (rank == 0) {\n",
    "  \tmy_MPI_send(number_buf, number_amount, 1);\n",
    "        my_MPI_receive(number_buf, number_amount, 1);\n",
    "  } else if (rank == 1) {\n",
    "        my_MPI_receive(number_buf, number_amount, 0); \n",
    "  \tmy_MPI_send(number_buf, number_amount, 0);\n",
    "  }\n",
    "}\n",
    "\n",
    "int* init_buf(int n){\n",
    "  int* buf = (int*) malloc(sizeof(int) * n);\n",
    "  int i;\n",
    "  for (i=0; i < n; i++){\n",
    "     buf[i] = -1;\n",
    "  }\n",
    "  return buf;\n",
    "}\n",
    "\n",
    "double measure_ping_pong_time(int rank, int number_amount) {\n",
    "  \n",
    "  int i;\n",
    "  double t1, t2;\n",
    "  int* number_buf = init_buf(number_amount);\n",
    "\n",
    "  MPI_Barrier(MPI_COMM_WORLD);\n",
    "  t1 = MPI_Wtime();\n",
    "  for (i = 0; i < N; i++){\n",
    "     MPI_one_ping_pong(rank, number_buf, number_amount);    \n",
    "  } \n",
    "  t2 = MPI_Wtime();\n",
    "\n",
    "  free(number_buf);\n",
    "  return (t2 - t1)/((double) N);\n",
    "}\n",
    "\n",
    "double compute_thrtp(double time_in_sec, int number_amount) {\n",
    "  int buff_size = sizeof(int)*number_amount;\n",
    "  return (double) (8*buff_size)/(1000000.0*time_in_sec);\n",
    "}\n",
    "\n",
    "void export_to_csv(int* buff_size, double* throughtputs) {\n",
    "  printf(\"Message_size, Throughtput\\n\");\n",
    "  \n",
    "  int i;\n",
    "  for (i = 0; i < TEST_CASES_NUM; i++) {\n",
    "  \tprintf( \"%d, %f\\n\", buff_size[i], throughtputs[i]);\n",
    "  }\n",
    "}\n",
    "\n",
    "int main (int argc, char * argv[])\n",
    "{\n",
    "  int rank, size;\n",
    "  init_mpi(&argc, &argv, &rank, &size);\n",
    " \n",
    "  const int number_amounts[TEST_CASES_NUM] = {100, 1000, 10000, 100000,  1000000, 10000000};\n",
    "  double* thrtps = (double*) malloc(sizeof(double)*TEST_CASES_NUM);\n",
    "  int* buff_size = (int*) malloc(sizeof(int)*TEST_CASES_NUM);\n",
    "  int i;  \n",
    "  for (i = 0; i < TEST_CASES_NUM; i++) {\n",
    "  \tdouble snd_rcv_time_sec = measure_ping_pong_time(rank, number_amounts[i]);\n",
    "  \tbuff_size[i] = sizeof(int)*number_amounts[i];\n",
    "        thrtps[i] = compute_thrtp(snd_rcv_time_sec, number_amounts[i]); \n",
    "  } \n",
    "  double delay = 1000.0 * measure_ping_pong_time(rank, 1);  \n",
    "\n",
    "  if (rank == 0) {\n",
    "  \texport_to_csv(buff_size, thrtps);\n",
    "        printf(\"Delay: %f[ms]\\n\", delay);\n",
    "  \t\n",
    "  }\n",
    "  free(thrtps);\n",
    "  free(buff_size);\n",
    "\n",
    "  MPI_Finalize();\n",
    "\n",
    "  return 0;\n",
    "}\n",
    "\n",
    "```\n",
    "\n",
    "Był on kompilowany bez i z flagą `-DBUFFERED` w celu zbadania odpowiednio komunikacji niebuforowanej i buforowanej. \n",
    "\n",
    "Wyniki pobrano zarówno dla komunikacji na 1 nodzie, jak i pomiędzy 2 node'ami (dla obu typów komunikacji). Komunikacja na 1 nodzie odbyła się po ustawieniu `:2` przy nodzie nr 3 w pliku `allnodes`, a komunikacja między 2 odbyła się przy ustawieniu  `:1` przy nodach nr 9 i 10."
   ]
  },
  {
   "cell_type": "markdown",
   "id": "12c494c8",
   "metadata": {},
   "source": [
    "## Dane pomiarowe\n",
    "\n",
    "W wyniku eksperymentu uzyskano 5 plików CSV. 4 z nich odnosiły się do przepustowości, 1 do opóźnienia. \n",
    "Dane pozyskano w czasie, w którym na klastrze nie znajdowało się wielu użytkowników, co sprawdzono za pomocą komendy `who`.\n",
    "\n",
    "### Przepustowość od wielości danych\n",
    "\n",
    "Czas przesyłu danych liczony był jako czas potrzebny na przesłanie `x` B danych w dwie strony. Seria wielkości danych rosła geometrycznie: każda kolejna wartość jest większa 10 razy. Każdy pomiar powtórzono 1001 razy. Przedstawione niżej dane sa wartością oczekiwaną.\n",
    "\n",
    "Przepustowość została zapisana w Mbit/s, wielkość danych w B. Są to 4 pliki: \n",
    "  1. komunikacja niebuforowana - 1 node\n"
   ]
  },
  {
   "cell_type": "code",
   "execution_count": 9,
   "id": "983673be",
   "metadata": {},
   "outputs": [
    {
     "data": {
      "text/html": [
       "<div>\n",
       "<style scoped>\n",
       "    .dataframe tbody tr th:only-of-type {\n",
       "        vertical-align: middle;\n",
       "    }\n",
       "\n",
       "    .dataframe tbody tr th {\n",
       "        vertical-align: top;\n",
       "    }\n",
       "\n",
       "    .dataframe thead th {\n",
       "        text-align: right;\n",
       "    }\n",
       "</style>\n",
       "<table border=\"1\" class=\"dataframe\">\n",
       "  <thead>\n",
       "    <tr style=\"text-align: right;\">\n",
       "      <th></th>\n",
       "      <th>Message_size</th>\n",
       "      <th>Throughtput</th>\n",
       "    </tr>\n",
       "  </thead>\n",
       "  <tbody>\n",
       "    <tr>\n",
       "      <th>0</th>\n",
       "      <td>400</td>\n",
       "      <td>20.121754</td>\n",
       "    </tr>\n",
       "    <tr>\n",
       "      <th>1</th>\n",
       "      <td>4000</td>\n",
       "      <td>104.291489</td>\n",
       "    </tr>\n",
       "    <tr>\n",
       "      <th>2</th>\n",
       "      <td>40000</td>\n",
       "      <td>225.392701</td>\n",
       "    </tr>\n",
       "    <tr>\n",
       "      <th>3</th>\n",
       "      <td>400000</td>\n",
       "      <td>814.356677</td>\n",
       "    </tr>\n",
       "    <tr>\n",
       "      <th>4</th>\n",
       "      <td>4000000</td>\n",
       "      <td>1283.516045</td>\n",
       "    </tr>\n",
       "    <tr>\n",
       "      <th>5</th>\n",
       "      <td>40000000</td>\n",
       "      <td>1652.449831</td>\n",
       "    </tr>\n",
       "  </tbody>\n",
       "</table>\n",
       "</div>"
      ],
      "text/plain": [
       "   Message_size   Throughtput\n",
       "0           400     20.121754\n",
       "1          4000    104.291489\n",
       "2         40000    225.392701\n",
       "3        400000    814.356677\n",
       "4       4000000   1283.516045\n",
       "5      40000000   1652.449831"
      ]
     },
     "execution_count": 9,
     "metadata": {},
     "output_type": "execute_result"
    }
   ],
   "source": [
    "normal_1_node = pd.read_csv(\"results/normal_1_node.csv\")\n",
    "normal_1_node"
   ]
  },
  {
   "cell_type": "markdown",
   "id": "b18f4b7e",
   "metadata": {},
   "source": [
    "2. komunikacja niebuforowana - 2 nody"
   ]
  },
  {
   "cell_type": "code",
   "execution_count": 62,
   "id": "20ab3da4",
   "metadata": {},
   "outputs": [
    {
     "data": {
      "text/html": [
       "<div>\n",
       "<style scoped>\n",
       "    .dataframe tbody tr th:only-of-type {\n",
       "        vertical-align: middle;\n",
       "    }\n",
       "\n",
       "    .dataframe tbody tr th {\n",
       "        vertical-align: top;\n",
       "    }\n",
       "\n",
       "    .dataframe thead th {\n",
       "        text-align: right;\n",
       "    }\n",
       "</style>\n",
       "<table border=\"1\" class=\"dataframe\">\n",
       "  <thead>\n",
       "    <tr style=\"text-align: right;\">\n",
       "      <th></th>\n",
       "      <th>Message_size</th>\n",
       "      <th>Throughtput</th>\n",
       "    </tr>\n",
       "  </thead>\n",
       "  <tbody>\n",
       "    <tr>\n",
       "      <th>0</th>\n",
       "      <td>400</td>\n",
       "      <td>35.568814</td>\n",
       "    </tr>\n",
       "    <tr>\n",
       "      <th>1</th>\n",
       "      <td>4000</td>\n",
       "      <td>189.157758</td>\n",
       "    </tr>\n",
       "    <tr>\n",
       "      <th>2</th>\n",
       "      <td>40000</td>\n",
       "      <td>1345.707578</td>\n",
       "    </tr>\n",
       "    <tr>\n",
       "      <th>3</th>\n",
       "      <td>400000</td>\n",
       "      <td>1404.841344</td>\n",
       "    </tr>\n",
       "    <tr>\n",
       "      <th>4</th>\n",
       "      <td>4000000</td>\n",
       "      <td>1226.464586</td>\n",
       "    </tr>\n",
       "    <tr>\n",
       "      <th>5</th>\n",
       "      <td>40000000</td>\n",
       "      <td>1261.470569</td>\n",
       "    </tr>\n",
       "  </tbody>\n",
       "</table>\n",
       "</div>"
      ],
      "text/plain": [
       "   Message_size   Throughtput\n",
       "0           400     35.568814\n",
       "1          4000    189.157758\n",
       "2         40000   1345.707578\n",
       "3        400000   1404.841344\n",
       "4       4000000   1226.464586\n",
       "5      40000000   1261.470569"
      ]
     },
     "execution_count": 62,
     "metadata": {},
     "output_type": "execute_result"
    }
   ],
   "source": [
    "normal_2_nodes = pd.read_csv(\"results/normal_2_nodes.csv\")\n",
    "normal_2_nodes"
   ]
  },
  {
   "cell_type": "markdown",
   "id": "60828c93",
   "metadata": {},
   "source": [
    "3. komunikacja buforowana - 1 node"
   ]
  },
  {
   "cell_type": "code",
   "execution_count": 12,
   "id": "1a915074",
   "metadata": {},
   "outputs": [
    {
     "data": {
      "text/html": [
       "<div>\n",
       "<style scoped>\n",
       "    .dataframe tbody tr th:only-of-type {\n",
       "        vertical-align: middle;\n",
       "    }\n",
       "\n",
       "    .dataframe tbody tr th {\n",
       "        vertical-align: top;\n",
       "    }\n",
       "\n",
       "    .dataframe thead th {\n",
       "        text-align: right;\n",
       "    }\n",
       "</style>\n",
       "<table border=\"1\" class=\"dataframe\">\n",
       "  <thead>\n",
       "    <tr style=\"text-align: right;\">\n",
       "      <th></th>\n",
       "      <th>Message_size</th>\n",
       "      <th>Throughtput</th>\n",
       "    </tr>\n",
       "  </thead>\n",
       "  <tbody>\n",
       "    <tr>\n",
       "      <th>0</th>\n",
       "      <td>400</td>\n",
       "      <td>36.388835</td>\n",
       "    </tr>\n",
       "    <tr>\n",
       "      <th>1</th>\n",
       "      <td>4000</td>\n",
       "      <td>215.318647</td>\n",
       "    </tr>\n",
       "    <tr>\n",
       "      <th>2</th>\n",
       "      <td>40000</td>\n",
       "      <td>1320.634187</td>\n",
       "    </tr>\n",
       "    <tr>\n",
       "      <th>3</th>\n",
       "      <td>400000</td>\n",
       "      <td>564.011719</td>\n",
       "    </tr>\n",
       "    <tr>\n",
       "      <th>4</th>\n",
       "      <td>4000000</td>\n",
       "      <td>1018.657553</td>\n",
       "    </tr>\n",
       "    <tr>\n",
       "      <th>5</th>\n",
       "      <td>40000000</td>\n",
       "      <td>1117.138113</td>\n",
       "    </tr>\n",
       "  </tbody>\n",
       "</table>\n",
       "</div>"
      ],
      "text/plain": [
       "   Message_size   Throughtput\n",
       "0           400     36.388835\n",
       "1          4000    215.318647\n",
       "2         40000   1320.634187\n",
       "3        400000    564.011719\n",
       "4       4000000   1018.657553\n",
       "5      40000000   1117.138113"
      ]
     },
     "execution_count": 12,
     "metadata": {},
     "output_type": "execute_result"
    }
   ],
   "source": [
    "buf_1_node = pd.read_csv(\"results/buffered_1_node.csv\")\n",
    "buf_1_node"
   ]
  },
  {
   "cell_type": "markdown",
   "id": "ae5f9e58",
   "metadata": {},
   "source": [
    "4. komunikacja buforowana - 2 nody"
   ]
  },
  {
   "cell_type": "code",
   "execution_count": 13,
   "id": "48e6de4d",
   "metadata": {},
   "outputs": [
    {
     "data": {
      "text/html": [
       "<div>\n",
       "<style scoped>\n",
       "    .dataframe tbody tr th:only-of-type {\n",
       "        vertical-align: middle;\n",
       "    }\n",
       "\n",
       "    .dataframe tbody tr th {\n",
       "        vertical-align: top;\n",
       "    }\n",
       "\n",
       "    .dataframe thead th {\n",
       "        text-align: right;\n",
       "    }\n",
       "</style>\n",
       "<table border=\"1\" class=\"dataframe\">\n",
       "  <thead>\n",
       "    <tr style=\"text-align: right;\">\n",
       "      <th></th>\n",
       "      <th>Message_size</th>\n",
       "      <th>Throughtput</th>\n",
       "    </tr>\n",
       "  </thead>\n",
       "  <tbody>\n",
       "    <tr>\n",
       "      <th>0</th>\n",
       "      <td>400</td>\n",
       "      <td>37.782293</td>\n",
       "    </tr>\n",
       "    <tr>\n",
       "      <th>1</th>\n",
       "      <td>4000</td>\n",
       "      <td>232.925589</td>\n",
       "    </tr>\n",
       "    <tr>\n",
       "      <th>2</th>\n",
       "      <td>40000</td>\n",
       "      <td>1510.648549</td>\n",
       "    </tr>\n",
       "    <tr>\n",
       "      <th>3</th>\n",
       "      <td>400000</td>\n",
       "      <td>816.289598</td>\n",
       "    </tr>\n",
       "    <tr>\n",
       "      <th>4</th>\n",
       "      <td>4000000</td>\n",
       "      <td>1072.329623</td>\n",
       "    </tr>\n",
       "    <tr>\n",
       "      <th>5</th>\n",
       "      <td>40000000</td>\n",
       "      <td>946.367913</td>\n",
       "    </tr>\n",
       "  </tbody>\n",
       "</table>\n",
       "</div>"
      ],
      "text/plain": [
       "   Message_size   Throughtput\n",
       "0           400     37.782293\n",
       "1          4000    232.925589\n",
       "2         40000   1510.648549\n",
       "3        400000    816.289598\n",
       "4       4000000   1072.329623\n",
       "5      40000000    946.367913"
      ]
     },
     "execution_count": 13,
     "metadata": {},
     "output_type": "execute_result"
    }
   ],
   "source": [
    "buf_2_nodes = pd.read_csv(\"results/buffered_2_nodes.csv\")\n",
    "buf_2_nodes"
   ]
  },
  {
   "cell_type": "markdown",
   "id": "5aa498e2",
   "metadata": {},
   "source": [
    "### Opóźnienie\n",
    "\n",
    "Odczytano 4 wielkości opóźnienia dla wszystkich 4 konfiguracji eksperymentu. Została ona obliczona jako długość przesyłu w obie strony komunikatu o wielkości 1 B. Wartość opóźnienia zapisano w ms."
   ]
  },
  {
   "cell_type": "code",
   "execution_count": 19,
   "id": "ce7793c0",
   "metadata": {},
   "outputs": [
    {
     "data": {
      "text/html": [
       "<div>\n",
       "<style scoped>\n",
       "    .dataframe tbody tr th:only-of-type {\n",
       "        vertical-align: middle;\n",
       "    }\n",
       "\n",
       "    .dataframe tbody tr th {\n",
       "        vertical-align: top;\n",
       "    }\n",
       "\n",
       "    .dataframe thead th {\n",
       "        text-align: right;\n",
       "    }\n",
       "</style>\n",
       "<table border=\"1\" class=\"dataframe\">\n",
       "  <thead>\n",
       "    <tr style=\"text-align: right;\">\n",
       "      <th></th>\n",
       "      <th>Type</th>\n",
       "      <th>Number_of_nodes</th>\n",
       "      <th>Delay</th>\n",
       "    </tr>\n",
       "  </thead>\n",
       "  <tbody>\n",
       "    <tr>\n",
       "      <th>0</th>\n",
       "      <td>normal</td>\n",
       "      <td>1</td>\n",
       "      <td>0.066799</td>\n",
       "    </tr>\n",
       "    <tr>\n",
       "      <th>1</th>\n",
       "      <td>normal</td>\n",
       "      <td>2</td>\n",
       "      <td>0.147370</td>\n",
       "    </tr>\n",
       "    <tr>\n",
       "      <th>2</th>\n",
       "      <td>buffered</td>\n",
       "      <td>1</td>\n",
       "      <td>0.066297</td>\n",
       "    </tr>\n",
       "    <tr>\n",
       "      <th>3</th>\n",
       "      <td>buffered</td>\n",
       "      <td>2</td>\n",
       "      <td>0.076020</td>\n",
       "    </tr>\n",
       "  </tbody>\n",
       "</table>\n",
       "</div>"
      ],
      "text/plain": [
       "       Type   Number_of_nodes     Delay\n",
       "0    normal                 1  0.066799\n",
       "1    normal                 2  0.147370\n",
       "2  buffered                 1  0.066297\n",
       "3  buffered                 2  0.076020"
      ]
     },
     "execution_count": 19,
     "metadata": {},
     "output_type": "execute_result"
    }
   ],
   "source": [
    "delays = pd.read_csv(\"results/delays.csv\")\n",
    "delays"
   ]
  },
  {
   "cell_type": "markdown",
   "id": "3a5ab825",
   "metadata": {},
   "source": [
    "## Wykresy\n",
    "Wszystkie wykresy posiadają skalę logarytmiczną na osi x, ponieważ dane są tam "
   ]
  },
  {
   "cell_type": "code",
   "execution_count": 78,
   "id": "02153b9d",
   "metadata": {},
   "outputs": [],
   "source": [
    "def plot_log_line(x, y1, y2, title, x_label, y_label, y1_label, y2_label):\n",
    "    plt.figure(figsize=(10, 7), dpi=80)\n",
    "    \n",
    "    plt.plot(x, y1, label=y1_label)\n",
    "    plt.plot(x, y2, label=y2_label)\n",
    "    plt.xscale(\"log\")\n",
    "    \n",
    "    plt.title(title)\n",
    "    plt.xlabel(x_label)\n",
    "    plt.ylabel(y_label)\n",
    "    \n",
    "    plt.xticks(ticks=x, labels=x)\n",
    "    \n",
    "    plt.legend()\n",
    "    plt.show()"
   ]
  },
  {
   "cell_type": "markdown",
   "id": "594c3351",
   "metadata": {},
   "source": [
    "### Porównanie przepustowości dla różnych typów komunikacji na 1 nodzie."
   ]
  },
  {
   "cell_type": "code",
   "execution_count": 79,
   "id": "3121c786",
   "metadata": {},
   "outputs": [
    {
     "data": {
      "image/png": "[encoded data removed]",
      "text/plain": [
       "<Figure size 800x560 with 1 Axes>"
      ]
     },
     "metadata": {
      "needs_background": "light"
     },
     "output_type": "display_data"
    }
   ],
   "source": [
    "x = normal_1_node[\"Message_size\"]\n",
    "y1 = normal_1_node[\" Throughtput\"]\n",
    "y2 = buf_1_node[\" Throughtput\"]\n",
    "plot_log_line(x, y1, y2,\n",
    "              title=\"Througthput to message size [1 node]\",\n",
    "              x_label=\"Message size [B]\",\n",
    "              y_label=\"Throughtput [Mbit/s]\",\n",
    "              y1_label=\"non-buffered\", y2_label=\"buffered\")\n"
   ]
  },
  {
   "cell_type": "markdown",
   "id": "15cd7376",
   "metadata": {},
   "source": [
    "Pzepustowość dla komunikacji niebuforowanej stale rośnie. Jest to spowodowane ciągłym zmniejszaniem narzutu związanego z samym przesyłem danych w stosunku do całej wiadomości (procent wiadomości poświęcony na metadane w funkcji wielkości pakietu dąży do 0). Nie udało się jednak osiągnąć momentu \"nasycenia\". Dalsze testy były trudne do przeprowadzenia ze względu na długość czasu przesyłu.\n",
    "\n",
    "Buforowanie nie podlega opisanej wyżej zasadzie, ponieważ narzut jest różny w zależności od wielkości komunikatu. Przepustowość buforowana jest większa dla małych i średnich wielkości pakietów (do 40 KB włącznie), jednak zdecydowanie mniejsza dla dużych pakietów. Jest to spowodowane tym, że dla dużych komunikatów wielkość pakietu \"sama w sobie\" stanowi bufor i dodatkowy narzut komunikacji buforowanej zwalnia przesył danych.\n",
    "\n",
    "### Porównanie przepustowości dla różnych typów komunikacji na 2 nodach."
   ]
  },
  {
   "cell_type": "code",
   "execution_count": 80,
   "id": "01d8c725",
   "metadata": {},
   "outputs": [
    {
     "data": {
      "image/png": "[encoded data removed]",
      "text/plain": [
       "<Figure size 800x560 with 1 Axes>"
      ]
     },
     "metadata": {
      "needs_background": "light"
     },
     "output_type": "display_data"
    }
   ],
   "source": [
    "x = normal_2_nodes[\"Message_size\"]\n",
    "y1 = normal_2_nodes[\" Throughtput\"]\n",
    "y2 = buf_2_nodes[\" Throughtput\"]\n",
    "plot_log_line(x, y1, y2,\n",
    "              title=\"Througthput to message size [2 nodes]\",\n",
    "              x_label=\"Message size [B]\",\n",
    "              y_label=\"Throughtput [Mbit/s]\",\n",
    "              y1_label=\"non-buffered\", y2_label=\"buffered\")"
   ]
  },
  {
   "cell_type": "markdown",
   "id": "7b8bd779",
   "metadata": {},
   "source": [
    "Wykres przepustowości do wielkości wiadomości dla 2 węzłów jest nieco podobny jak ten dla 1 węzła, jednak można zauważyć w nim drobne różnice. \n",
    "\n",
    "Po pierwsze - dla komunikacji niebuforowanej osiągnięto \"nasycenie\" równe ok. 1400 Mbit/s, co możemy traktować jako szczytową przepustowoś dla tego rodzaju komunikacji.\n",
    "\n",
    "Po drugie - różnica przepustowości dla komunikacji buforowanej nie jest tak duża jak dla komunikacji niebuforowanej. Pozwala to stwierdzić, że komunikacja buforowana jest bardziej istotna w środowiskach gdzie komunikacja między procesami jest mniejsza i bufor potrzebny jest jako równoważnik dla różnicach w szybkości przesyłu a przetwarzania danych.\n",
    "\n",
    "### Opóźnienie"
   ]
  },
  {
   "cell_type": "code",
   "execution_count": 73,
   "id": "ccc807ea",
   "metadata": {},
   "outputs": [
    {
     "data": {
      "image/png": "[encoded data removed]",
      "text/plain": [
       "<Figure size 800x560 with 1 Axes>"
      ]
     },
     "metadata": {
      "needs_background": "light"
     },
     "output_type": "display_data"
    }
   ],
   "source": [
    "labels = [\"non-buffered (1 node)\", \"non-buffered (2 nodes)\", \"buffered (1 node)\", \"buffered (2 nodes)\"]\n",
    "y = delays[\" Delay\"]\n",
    "colors = [\"#33e8c9\", \"#33e8c9\", \"#e833ad\", \"#e833ad\"]\n",
    "plt.figure(figsize=(10, 7), dpi=80)\n",
    "plt.bar(labels, y, color=colors)\n",
    "plt.title(\"Delay based on type of communication and number of nodes\")\n",
    "plt.ylabel(\"Delay [ms]\")\n",
    "plt.show()"
   ]
  },
  {
   "cell_type": "markdown",
   "id": "e577b4b1",
   "metadata": {},
   "source": [
    "Powyższy wykres pokazuje, że buforowanie jest szczególnie korzystne dla komunikacji między dwoma węzłami. Wartość opóźnienia nie zmienia się znacząco dla komunikacji buforowanej, czego nie można powiedzieć o komunikacji niebuforowanej, gdzie wartość ta jest niemal dwa razy wyższa dla komunikacji międzywęzłowej w porównaniu z komunicją w jednym węźle.\n",
    "\n",
    "Jest to spowodowane tym, że procesor w komunikacji buforowanej ???"
   ]
  },
  {
   "cell_type": "code",
   "execution_count": null,
   "id": "c3db33ea",
   "metadata": {},
   "outputs": [],
   "source": []
  }
 ],
 "metadata": {
  "kernelspec": {
   "display_name": "Python 3 (ipykernel)",
   "language": "python",
   "name": "python3"
  },
  "language_info": {
   "codemirror_mode": {
    "name": "ipython",
    "version": 3
   },
   "file_extension": ".py",
   "mimetype": "text/x-python",
   "name": "python",
   "nbconvert_exporter": "python",
   "pygments_lexer": "ipython3",
   "version": "3.7.6"
  }
 },
 "nbformat": 4,
 "nbformat_minor": 5
}
