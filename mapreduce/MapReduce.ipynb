{
 "cells": [
  {
   "cell_type": "markdown",
   "id": "0b24cc8d",
   "metadata": {},
   "source": [
    "# Metody Programowania Równoległego\n",
    "## Temat: Map Reduce\n",
    "\n",
    "**Wykonał: Paweł Kruczkiewicz**"
   ]
  },
  {
   "cell_type": "markdown",
   "id": "b148c20a",
   "metadata": {},
   "source": [
    "## Algorytm sekwencyjny\n",
    "### Implementacja\n",
    "\n",
    "W celu efektywnej implementacji użyto biblioteki `smart_open` stworzonej specjalnie do przetwarzania danych z EC2. Użyty kod:\n",
    "\n",
    "```python\n",
    "#!/usr/bin/env python\n",
    "\"\"\"word_count_whole_file.py\"\"\"\n",
    "\n",
    "import sys\n",
    "import time\n",
    "from smart_open import open\n",
    "\n",
    "if __name__==\"__main__\":\n",
    "    for filename in [\"s3://mpr-balis/gutenberg-1G.txt\",\"s3://mpr-balis/gutenberg-5G.txt\",\"s3://mpr-balis/gutenberg-10G.txt\"]:\n",
    "        for i in range(4):\n",
    "            word_count = {}\n",
    "            time1 = time.time()\n",
    "            \n",
    "            for line in open('s3://mpr-balis/gutenberg-1G.txt', encoding=\"latin-1\"):\n",
    "                words = line.strip().split()\n",
    "                for word in words:\n",
    "                    if word not in word_count:\n",
    "                        word_count[word] = 0\n",
    "                    word_count[word] += 1\n",
    "                \n",
    "            time_elapsed = round(time.time() - time1, 2)\n",
    "            print(f\"{i+1}\\t{filename}\\t{time_elapsed}[s]\")\n",
    "```\n",
    "\n",
    "\n",
    "### Konfiguracja\n",
    "\n",
    "Powyższy kod dla 3 typów wykonano na maszynie EC2 o typie instancji `m4.large`.\n",
    "\n",
    "![ec2](ec2_instance_type.png)\n",
    "\n",
    "\n",
    "Wyniki przedstawiono w dalszej części sprawozdania.\n"
   ]
  },
  {
   "cell_type": "markdown",
   "id": "961ed1b3",
   "metadata": {},
   "source": [
    "## Algorytm z użyciem paradygmatu *Map Reduce*\n",
    "\n",
    "\n",
    "### Implementacja\n",
    "\n",
    "Użyto standardowej implementacji  `mapper.py`\n",
    "\n",
    "```python\n",
    "#!/usr/bin/env python\n",
    "\"\"\"mapper.py\"\"\"\n",
    "\n",
    "import sys\n",
    "\n",
    "# input comes from STDIN (standard input)\n",
    "for line in sys.stdin:\n",
    "    # remove leading and trailing whitespace\n",
    "    line = line.strip()\n",
    "    # split the line into words\n",
    "    words = line.split()\n",
    "    # increase counters\n",
    "    for word in words:\n",
    "        # write the results to STDOUT (standard output);\n",
    "        # what we output here will be the input for the\n",
    "        # Reduce step, i.e. the input for reducer.py\n",
    "        #\n",
    "        # tab-delimited; the trivial word count is 1\n",
    "        print '%s\\t%s' % (word, 1)\n",
    "```\n",
    "\n",
    "oraz `reducer.py`\n",
    "\n",
    "```python\n",
    "\n",
    "#!/usr/bin/env python\n",
    "\"\"\"reducer.py\"\"\"\n",
    "\n",
    "from operator import itemgetter\n",
    "import sys\n",
    "\n",
    "current_word = None\n",
    "current_count = 0\n",
    "word = None\n",
    "\n",
    "# input comes from STDIN\n",
    "for line in sys.stdin:\n",
    "    # remove leading and trailing whitespace\n",
    "    line = line.strip()\n",
    "\n",
    "    # parse the input we got from mapper.py\n",
    "    word, count = line.split('\\t', 1)\n",
    "\n",
    "    # convert count (currently a string) to int\n",
    "    try:\n",
    "        count = int(count)\n",
    "    except ValueError:\n",
    "        # count was not a number, so silently\n",
    "        # ignore/discard this line\n",
    "        continue\n",
    "\n",
    "    # this IF-switch only works because Hadoop sorts map output\n",
    "    # by key (here: word) before it is passed to the reducer\n",
    "    if current_word == word:\n",
    "        current_count += count\n",
    "    else:\n",
    "        if current_word:\n",
    "            # write result to STDOUT\n",
    "            print '%s\\t%s' % (current_word, current_count)\n",
    "        current_count = count\n",
    "        current_word = word\n",
    "\n",
    "# do not forget to output the last word if needed!\n",
    "if current_word == word:\n",
    "    print '%s\\t%s' % (current_word, current_count)\n",
    "    \n",
    "```\n",
    "\n",
    "### Konfiguracja\n",
    "\n",
    "Powyższy kod zastosowano w paradygmacie `Map Reduce` na maszynie `EMR` w `Amazon Cloud Service`. Dokładne konfiguracje zostały opisane niżej.\n",
    "\n",
    "Aby uruchomić i sprawdzić powyższy kod *dla każdego klastra*:\n",
    "  1. Przesłano plik `gutenberg-1g.txt` za pomocą `scp`.\n",
    "  2. Rozpakowano go i wrzucono na hadoopa za pomocą komend `hdfs dfs -touchz` oraz `hdfs dfs -appendFileTo`.\n",
    "  3. Stworzono pliki `mapper.py` oraz `reducer.py` z treścią jak wyżej.\n",
    "  4. Zamieszczono i użyto skryptu `script.sh` przechwytującego `time` do pliku `time.txt`. \n",
    "  5. Przeanalizowano plik `time.txt` i dodano odpowiednie linie do pliku `result.csv` zawierającego wyniki eksperymentu w formie pliku `csv`.\n",
    "\n",
    "Plik `script.sh`\n",
    "```bash\n",
    "for size in 1 5 10\n",
    "do\n",
    "        input=\"books-input/${size}g.txt\"\n",
    "        for test_case_num in {1..3}\n",
    "        do\n",
    "                { time hadoop jar /usr/lib/hadoop/hadoop-streaming.jar \\\n",
    "                                -files mapper.py,reducer.py\\\n",
    "                                 -mapper mapper.py -reducer reducer.py \\\n",
    "                                -input ${input} -output books-output ; } 2>>time.txt\n",
    "                hdfs dfs -rm -r books-output\n",
    "        done\n",
    "done\n",
    "```\n",
    "\n",
    "Wielkość konfiguracji to użyte sumarycznie max 12 core'ów.\n",
    "\n",
    "#### Pierwsza konfiguracja\n",
    "\n",
    "Pierwsza konfiguracja to **3 x 4 core'y** (3 instancje typu `m4.xlarge`).\n",
    "\n",
    "![emr_1](EMR_1.png)\n",
    "\n",
    "#### Druga konfiguracja\n",
    "\n",
    "Druga konfiguracja to **6 x 2 core'y** (6 instancji typu `m4.large`).\n",
    "\n",
    "![emr_2](EMR_2.png)"
   ]
  },
  {
   "cell_type": "markdown",
   "id": "bc37361d",
   "metadata": {},
   "source": [
    "## Wyniki\n",
    "\n",
    "### Plik CSV\n",
    "\n",
    "Dane z poszczególnych plików time przeanalizowano i dodano do pliku `result.csv`."
   ]
  },
  {
   "cell_type": "code",
   "execution_count": 28,
   "id": "b6b2ab7d",
   "metadata": {},
   "outputs": [
    {
     "data": {
      "text/html": [
       "<div>\n",
       "<style scoped>\n",
       "    .dataframe tbody tr th:only-of-type {\n",
       "        vertical-align: middle;\n",
       "    }\n",
       "\n",
       "    .dataframe tbody tr th {\n",
       "        vertical-align: top;\n",
       "    }\n",
       "\n",
       "    .dataframe thead th {\n",
       "        text-align: right;\n",
       "    }\n",
       "</style>\n",
       "<table border=\"1\" class=\"dataframe\">\n",
       "  <thead>\n",
       "    <tr style=\"text-align: right;\">\n",
       "      <th></th>\n",
       "      <th>nCores</th>\n",
       "      <th>confId</th>\n",
       "      <th>dataSize</th>\n",
       "      <th>time</th>\n",
       "    </tr>\n",
       "  </thead>\n",
       "  <tbody>\n",
       "    <tr>\n",
       "      <th>0</th>\n",
       "      <td>1</td>\n",
       "      <td>0</td>\n",
       "      <td>1</td>\n",
       "      <td>90.68</td>\n",
       "    </tr>\n",
       "    <tr>\n",
       "      <th>1</th>\n",
       "      <td>1</td>\n",
       "      <td>0</td>\n",
       "      <td>1</td>\n",
       "      <td>89.56</td>\n",
       "    </tr>\n",
       "    <tr>\n",
       "      <th>2</th>\n",
       "      <td>1</td>\n",
       "      <td>0</td>\n",
       "      <td>1</td>\n",
       "      <td>89.83</td>\n",
       "    </tr>\n",
       "    <tr>\n",
       "      <th>3</th>\n",
       "      <td>1</td>\n",
       "      <td>0</td>\n",
       "      <td>1</td>\n",
       "      <td>89.96</td>\n",
       "    </tr>\n",
       "    <tr>\n",
       "      <th>4</th>\n",
       "      <td>1</td>\n",
       "      <td>0</td>\n",
       "      <td>5</td>\n",
       "      <td>466.19</td>\n",
       "    </tr>\n",
       "  </tbody>\n",
       "</table>\n",
       "</div>"
      ],
      "text/plain": [
       "   nCores  confId  dataSize    time\n",
       "0       1       0         1   90.68\n",
       "1       1       0         1   89.56\n",
       "2       1       0         1   89.83\n",
       "3       1       0         1   89.96\n",
       "4       1       0         5  466.19"
      ]
     },
     "execution_count": 28,
     "metadata": {},
     "output_type": "execute_result"
    }
   ],
   "source": [
    "import pandas as pd\n",
    "import matplotlib.pyplot as plt\n",
    "\n",
    "results = pd.read_csv(\"result.csv\")\n",
    "results.head()"
   ]
  },
  {
   "cell_type": "markdown",
   "id": "c274c7cc",
   "metadata": {},
   "source": [
    "Dane następnie zgrupowano wg typu konfiguracji (`confId`) oraz wielkości danych (`time`).  "
   ]
  },
  {
   "cell_type": "code",
   "execution_count": 35,
   "id": "e161ffd4",
   "metadata": {},
   "outputs": [
    {
     "data": {
      "text/html": [
       "<div>\n",
       "<style scoped>\n",
       "    .dataframe tbody tr th:only-of-type {\n",
       "        vertical-align: middle;\n",
       "    }\n",
       "\n",
       "    .dataframe tbody tr th {\n",
       "        vertical-align: top;\n",
       "    }\n",
       "\n",
       "    .dataframe thead tr th {\n",
       "        text-align: left;\n",
       "    }\n",
       "\n",
       "    .dataframe thead tr:last-of-type th {\n",
       "        text-align: right;\n",
       "    }\n",
       "</style>\n",
       "<table border=\"1\" class=\"dataframe\">\n",
       "  <thead>\n",
       "    <tr>\n",
       "      <th></th>\n",
       "      <th></th>\n",
       "      <th colspan=\"2\" halign=\"left\">confId</th>\n",
       "      <th colspan=\"2\" halign=\"left\">time</th>\n",
       "    </tr>\n",
       "    <tr>\n",
       "      <th></th>\n",
       "      <th></th>\n",
       "      <th>mean</th>\n",
       "      <th>std</th>\n",
       "      <th>mean</th>\n",
       "      <th>std</th>\n",
       "    </tr>\n",
       "    <tr>\n",
       "      <th>nCores</th>\n",
       "      <th>dataSize</th>\n",
       "      <th></th>\n",
       "      <th></th>\n",
       "      <th></th>\n",
       "      <th></th>\n",
       "    </tr>\n",
       "  </thead>\n",
       "  <tbody>\n",
       "    <tr>\n",
       "      <th rowspan=\"3\" valign=\"top\">1</th>\n",
       "      <th>1</th>\n",
       "      <td>0.0</td>\n",
       "      <td>0.0</td>\n",
       "      <td>90.007500</td>\n",
       "      <td>0.478287</td>\n",
       "    </tr>\n",
       "    <tr>\n",
       "      <th>5</th>\n",
       "      <td>0.0</td>\n",
       "      <td>0.0</td>\n",
       "      <td>467.306667</td>\n",
       "      <td>1.664702</td>\n",
       "    </tr>\n",
       "    <tr>\n",
       "      <th>10</th>\n",
       "      <td>0.0</td>\n",
       "      <td>0.0</td>\n",
       "      <td>953.816667</td>\n",
       "      <td>9.075992</td>\n",
       "    </tr>\n",
       "    <tr>\n",
       "      <th rowspan=\"3\" valign=\"top\">3</th>\n",
       "      <th>1</th>\n",
       "      <td>1.0</td>\n",
       "      <td>0.0</td>\n",
       "      <td>227.116667</td>\n",
       "      <td>2.090606</td>\n",
       "    </tr>\n",
       "    <tr>\n",
       "      <th>5</th>\n",
       "      <td>1.0</td>\n",
       "      <td>0.0</td>\n",
       "      <td>919.550000</td>\n",
       "      <td>36.918509</td>\n",
       "    </tr>\n",
       "    <tr>\n",
       "      <th>10</th>\n",
       "      <td>1.0</td>\n",
       "      <td>0.0</td>\n",
       "      <td>1771.346667</td>\n",
       "      <td>20.201139</td>\n",
       "    </tr>\n",
       "    <tr>\n",
       "      <th rowspan=\"3\" valign=\"top\">6</th>\n",
       "      <th>1</th>\n",
       "      <td>2.0</td>\n",
       "      <td>0.0</td>\n",
       "      <td>261.946667</td>\n",
       "      <td>66.417748</td>\n",
       "    </tr>\n",
       "    <tr>\n",
       "      <th>5</th>\n",
       "      <td>2.0</td>\n",
       "      <td>0.0</td>\n",
       "      <td>1010.610000</td>\n",
       "      <td>51.736485</td>\n",
       "    </tr>\n",
       "    <tr>\n",
       "      <th>10</th>\n",
       "      <td>2.0</td>\n",
       "      <td>0.0</td>\n",
       "      <td>2103.106667</td>\n",
       "      <td>169.922218</td>\n",
       "    </tr>\n",
       "  </tbody>\n",
       "</table>\n",
       "</div>"
      ],
      "text/plain": [
       "                confId              time            \n",
       "                  mean  std         mean         std\n",
       "nCores dataSize                                     \n",
       "1      1           0.0  0.0    90.007500    0.478287\n",
       "       5           0.0  0.0   467.306667    1.664702\n",
       "       10          0.0  0.0   953.816667    9.075992\n",
       "3      1           1.0  0.0   227.116667    2.090606\n",
       "       5           1.0  0.0   919.550000   36.918509\n",
       "       10          1.0  0.0  1771.346667   20.201139\n",
       "6      1           2.0  0.0   261.946667   66.417748\n",
       "       5           2.0  0.0  1010.610000   51.736485\n",
       "       10          2.0  0.0  2103.106667  169.922218"
      ]
     },
     "execution_count": 35,
     "metadata": {},
     "output_type": "execute_result"
    }
   ],
   "source": [
    "grouped_res = results.groupby(['nCores', 'dataSize'])\n",
    "agg_res = grouped_res.agg([\"mean\", \"std\"])\n",
    "\n",
    "agg_res"
   ]
  },
  {
   "cell_type": "code",
   "execution_count": 67,
   "id": "fb91d232",
   "metadata": {},
   "outputs": [
    {
     "data": {
      "text/html": [
       "<div>\n",
       "<style scoped>\n",
       "    .dataframe tbody tr th:only-of-type {\n",
       "        vertical-align: middle;\n",
       "    }\n",
       "\n",
       "    .dataframe tbody tr th {\n",
       "        vertical-align: top;\n",
       "    }\n",
       "\n",
       "    .dataframe thead th {\n",
       "        text-align: right;\n",
       "    }\n",
       "</style>\n",
       "<table border=\"1\" class=\"dataframe\">\n",
       "  <thead>\n",
       "    <tr style=\"text-align: right;\">\n",
       "      <th></th>\n",
       "      <th>mean</th>\n",
       "      <th>std</th>\n",
       "    </tr>\n",
       "    <tr>\n",
       "      <th>dataSize</th>\n",
       "      <th></th>\n",
       "      <th></th>\n",
       "    </tr>\n",
       "  </thead>\n",
       "  <tbody>\n",
       "    <tr>\n",
       "      <th>1</th>\n",
       "      <td>90.007500</td>\n",
       "      <td>0.478287</td>\n",
       "    </tr>\n",
       "    <tr>\n",
       "      <th>5</th>\n",
       "      <td>467.306667</td>\n",
       "      <td>1.664702</td>\n",
       "    </tr>\n",
       "    <tr>\n",
       "      <th>10</th>\n",
       "      <td>953.816667</td>\n",
       "      <td>9.075992</td>\n",
       "    </tr>\n",
       "  </tbody>\n",
       "</table>\n",
       "</div>"
      ],
      "text/plain": [
       "                mean       std\n",
       "dataSize                      \n",
       "1          90.007500  0.478287\n",
       "5         467.306667  1.664702\n",
       "10        953.816667  9.075992"
      ]
     },
     "execution_count": 67,
     "metadata": {},
     "output_type": "execute_result"
    }
   ],
   "source": [
    "base_time = results[results[\"nCores\"] == 1].groupby(\"dataSize\").agg([\"mean\", \"std\"]).transform(lambda x: x[\"time\"])\n",
    "base_time"
   ]
  },
  {
   "cell_type": "markdown",
   "id": "1c20b770",
   "metadata": {},
   "source": [
    "Następnie policzono speedup w zależności od użytych core'ów dla wszystkich trzech konfiguracji. Jako wartość bazowa (w mianowniku) posłużył *czas wykonania algorytmu sekwencyjnego na ec2*"
   ]
  },
  {
   "cell_type": "code",
   "execution_count": 76,
   "id": "3ceceeae",
   "metadata": {},
   "outputs": [
    {
     "data": {
      "image/png": "[encoded data removed]",
      "text/plain": [
       "<Figure size 720x504 with 1 Axes>"
      ]
     },
     "metadata": {
      "needs_background": "light"
     },
     "output_type": "display_data"
    }
   ],
   "source": [
    "#wyiczenie speedupu\n",
    "def get_speedup(dataSize):\n",
    "    df = results[results[\"dataSize\"] == dataSize].groupby(\"nCores\").agg([\"mean\", \"std\"])\n",
    "    time_mean = df[\"time\"][\"mean\"]\n",
    "    speedup_mean = base_time[\"mean\"][dataSize] / time_mean  \n",
    "    speedup_std = df[\"time\"][\"std\"] / time_mean\n",
    "    return speedup_mean, speedup_std\n",
    "     \n",
    "def plot_line_with_errors(x, y, e, title, x_label, y_label, ymax, diagonal=False, hline=None):\n",
    "    f, ax = plt.subplots(1)\n",
    "    f.set_size_inches(10,7)\n",
    "\n",
    "    ax.errorbar(x, y, e, marker=\"o\", linestyle=\"--\")\n",
    "    if diagonal: ax.plot(x, x, linestyle=\"--\")\n",
    "    if hline: ax.axhline(hline, linestyle=\"--\", color=\"red\")\n",
    "    \n",
    "    plt.title(title)\n",
    "    plt.xlabel(x_label)\n",
    "    plt.ylabel(y_label)\n",
    "    ax.set_xlim(xmin=0, xmax=7)\n",
    "    ax.set_ylim(ymin=0, ymax=ymax)\n",
    "\n",
    "    plt.show(f)\n",
    "\n",
    "\n",
    "x_axis = [1, 3, 6]\n"
   ]
  },
  {
   "cell_type": "code",
   "execution_count": 77,
   "id": "c55d6a73",
   "metadata": {},
   "outputs": [
    {
     "data": {
      "image/png": "[encoded data removed]",
      "text/plain": [
       "<Figure size 720x504 with 1 Axes>"
      ]
     },
     "metadata": {
      "needs_background": "light"
     },
     "output_type": "display_data"
    }
   ],
   "source": [
    "# 1G\n",
    "\n"
   ]
  },
  {
   "cell_type": "markdown",
   "id": "68b81201",
   "metadata": {},
   "source": [
    "### Wykresy\n",
    "\n",
    "#### 1 Gb\n",
    "\n",
    "\n"
   ]
  },
  {
   "cell_type": "code",
   "execution_count": 78,
   "id": "5534d319",
   "metadata": {},
   "outputs": [
    {
     "data": {
      "image/png": "[encoded data removed]",
      "text/plain": [
       "<Figure size 720x504 with 1 Axes>"
      ]
     },
     "metadata": {
      "needs_background": "light"
     },
     "output_type": "display_data"
    }
   ],
   "source": [
    "speedup_1, speedup_1_std = get_speedup(1)\n",
    "plot_line_with_errors(x_axis, speedup_1, speedup_1_std, \"Speedup for 1 GB\", \"number of cores\", \"speedup\", 1.2, diagonal=False)\n"
   ]
  },
  {
   "cell_type": "markdown",
   "id": "f8c0b6b2",
   "metadata": {},
   "source": [
    "\n",
    "#### wykres dla 5 GB"
   ]
  },
  {
   "cell_type": "code",
   "execution_count": 82,
   "id": "43a27e51",
   "metadata": {},
   "outputs": [
    {
     "data": {
      "image/png": "[encoded data removed]",
      "text/plain": [
       "<Figure size 720x504 with 1 Axes>"
      ]
     },
     "metadata": {
      "needs_background": "light"
     },
     "output_type": "display_data"
    }
   ],
   "source": [
    "speedup_5, speedup_5_std = get_speedup(5)\n",
    "plot_line_with_errors(x_axis, speedup_5, speedup_5_std, \"Speedup for 5 GB\", \"number of cores\", \"speedup\", 1.2, diagonal=False)\n"
   ]
  },
  {
   "cell_type": "markdown",
   "id": "c395e79d",
   "metadata": {},
   "source": [
    "#### wykres dla 10 GB\n",
    "\n"
   ]
  },
  {
   "cell_type": "code",
   "execution_count": 81,
   "id": "335a9448",
   "metadata": {},
   "outputs": [
    {
     "data": {
      "image/png": "[encoded data removed]",
      "text/plain": [
       "<Figure size 720x504 with 1 Axes>"
      ]
     },
     "metadata": {
      "needs_background": "light"
     },
     "output_type": "display_data"
    }
   ],
   "source": [
    "speedup_10, speedup_10_std = get_speedup(10)\n",
    "plot_line_with_errors(x_axis, speedup_10, speedup_10_std, \"Speedup for 10 GB\", \"number of cores\", \"speedup\", 1.2, diagonal=False)\n"
   ]
  },
  {
   "cell_type": "markdown",
   "id": "0a97e40a",
   "metadata": {},
   "source": [
    "\n",
    "### Komentarz\n",
    "Przedstawione wyżej wykresy wyraźnie pokazują, że żadna konfiguracja nie jest w stanie poprawić wyniku z EC2. Bazując na pracy *Scalability! But at what COST?* możemy hipotetyzować, że jest to spowodowane dodatkowym narzutem spowodowanym na rozdsponowanie plików po wielu komputerach. Na bazie tendencji spadkowej wykresów przyśpieszenia możemy stwierdzić, że **badana implementacja paradygmatu mapreduce ma *bezgraniczną* (ang. *unbounded*) metrykę COST**. Oznacza to, że prawdopodobnie nie istnieje konfiguracja, na której rozwiązanie problemu nastąpi szybciej niż na jednowątkowym komputerze z optymalną implementacją rozwiązania.\n",
    "\n",
    "\n",
    "Warto jednak zauważyć dwie rzeczy: \n",
    "\n",
    "   1. Hadoopowe przetwarzanie map reduce działało nieco lepiej dla plików o rozmiarze 5 i 10 GB niż dla 1 GB (Speedup ok. 0.5 zamiast 0.37). Pliki są mniejsze niż te, dla których Hadoop został stworzony.\n",
    "   2. Konfiguracja z 6 core'ami jest słabsza ze względu na ograniczenia AWSa. Być może użycie wyższego typu sprzętu pozwoliłoby *dogonić* implementację na jeden wątek."
   ]
  }
 ],
 "metadata": {
  "kernelspec": {
   "display_name": "Python 3 (ipykernel)",
   "language": "python",
   "name": "python3"
  },
  "language_info": {
   "codemirror_mode": {
    "name": "ipython",
    "version": 3
   },
   "file_extension": ".py",
   "mimetype": "text/x-python",
   "name": "python",
   "nbconvert_exporter": "python",
   "pygments_lexer": "ipython3",
   "version": "3.7.6"
  }
 },
 "nbformat": 4,
 "nbformat_minor": 5
}
