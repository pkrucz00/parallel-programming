{
 "cells": [
  {
   "attachments": {},
   "cell_type": "markdown",
   "id": "0b24cc8d",
   "metadata": {},
   "source": [
    "# Metody Programowania Równoległego\n",
    "## Temat: Map Reduce\n",
    "\n",
    "**Wykonał: Paweł Kruczkiewicz**"
   ]
  },
  {
   "attachments": {},
   "cell_type": "markdown",
   "id": "b148c20a",
   "metadata": {},
   "source": [
    "## Algorytm sekwencyjny\n",
    "### Implementacja\n",
    "\n",
    "W celu efektywnej implementacji użyto biblioteki `smart_open` stworzonej specjalnie do przetwarzania danych z EC2. Użyty kod:\n",
    "\n",
    "```python\n",
    "#!/usr/bin/env python\n",
    "\"\"\"word_count_whole_file.py\"\"\"\n",
    "\n",
    "import sys\n",
    "import time\n",
    "from smart_open import open\n",
    "\n",
    "if __name__==\"__main__\":\n",
    "    for filename in [\"s3://mpr-balis/gutenberg-1G.txt\",\"s3://mpr-balis/gutenberg-5G.txt\",\"s3://mpr-balis/gutenberg-10G.txt\"]:\n",
    "        for i in range(4):\n",
    "            word_count = {}\n",
    "            time1 = time.time()\n",
    "            \n",
    "            for line in open('s3://mpr-balis/gutenberg-1G.txt', encoding=\"latin-1\"):\n",
    "                words = line.strip().split()\n",
    "                for word in words:\n",
    "                    if word not in word_count:\n",
    "                        word_count[word] = 0\n",
    "                    word_count[word] += 1\n",
    "                \n",
    "            time_elapsed = round(time.time() - time1, 2)\n",
    "            print(f\"{i+1}\\t{filename}\\t{time_elapsed}[s]\")\n",
    "```\n",
    "\n",
    "\n",
    "### Konfiguracja\n",
    "\n",
    "Powyższy kod dla 3 typów wykonano na maszynie EC2 o typie instancji `m4.large`.\n",
    "\n",
    "![ec2](ec2_instance_type.png)\n",
    "\n",
    "\n",
    "Wyniki przedstawiono w dalszej części sprawozdania.\n"
   ]
  },
  {
   "attachments": {},
   "cell_type": "markdown",
   "id": "961ed1b3",
   "metadata": {},
   "source": [
    "## Algorytm z użyciem paradygmatu *Map Reduce*\n",
    "\n",
    "\n",
    "### Implementacja\n",
    "\n",
    "\n",
    "### Konfiguracja\n",
    "\n",
    "#### Pierwsza konfiguracja\n",
    "\n",
    "#### Druga konfiguracja"
   ]
  },
  {
   "attachments": {},
   "cell_type": "markdown",
   "id": "bc37361d",
   "metadata": {},
   "source": [
    "## Wyniki\n",
    "\n",
    "### Plik CSV\n",
    "\n",
    "### Wykresy\n",
    "\n",
    "### Komentarz"
   ]
  }
 ],
 "metadata": {
  "kernelspec": {
   "display_name": "Python 3 (ipykernel)",
   "language": "python",
   "name": "python3"
  },
  "language_info": {
   "codemirror_mode": {
    "name": "ipython",
    "version": 3
   },
   "file_extension": ".py",
   "mimetype": "text/x-python",
   "name": "python",
   "nbconvert_exporter": "python",
   "pygments_lexer": "ipython3",
   "version": "3.8.8"
  }
 },
 "nbformat": 4,
 "nbformat_minor": 5
}
